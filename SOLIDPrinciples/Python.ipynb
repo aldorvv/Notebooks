{
 "cells": [
  {
   "cell_type": "markdown",
   "id": "72639d85",
   "metadata": {},
   "source": [
    "# SOLID Principles"
   ]
  },
  {
   "cell_type": "markdown",
   "id": "00d62373",
   "metadata": {},
   "source": [
    "## Single Responsability Principle\n",
    "\n",
    "A class with many responsabilities is as useless as a class with none.\n",
    "\n",
    "*How to recognize a violation to SRP?*\n",
    " - Class has many instance variables\n",
    " - Class has many public methods\n",
    " - Each method uses different instance variables\n",
    " - Specific tasks are delegated to private methods"
   ]
  },
  {
   "cell_type": "code",
   "execution_count": 1,
   "id": "1f78f6bc",
   "metadata": {},
   "outputs": [],
   "source": [
    "# Base code that we will be using in many examples\n",
    "\n",
    "import random\n",
    "from dataclasses import dataclass\n",
    "\n",
    "\n",
    "@dataclass\n",
    "class User:\n",
    "    \n",
    "    __email: str\n",
    "\n",
    "    @property\n",
    "    def email(self) -> str:\n",
    "        return self.__email\n",
    "\n",
    "\n",
    "@dataclass\n",
    "class Message:\n",
    "    \n",
    "    subject: str\n",
    "    body: str\n",
    "      \n",
    "    @property\n",
    "    def to(self) -> str:\n",
    "        return self.__to\n",
    "\n",
    "    @to.setter\n",
    "    def to(self, value: str):\n",
    "        self.__to = value\n",
    "\n",
    "\n",
    "class Templater:\n",
    "    \n",
    "    def render(self, filename, values):\n",
    "        return \" \".join(values.values())\n",
    "\n",
    "\n",
    "class Translator:\n",
    "    \n",
    "    def translate(self, msg):\n",
    "        return msg\n",
    "\n",
    "\n",
    "class Mailer:\n",
    "    \n",
    "    def send(self, message: Message):\n",
    "        print(\"To: {to}\\nSubject: {subject}\\nBody: {body}\".format(\n",
    "            to=message.to, subject=message.subject, body=message.body\n",
    "        ))\n"
   ]
  },
  {
   "cell_type": "code",
   "execution_count": 2,
   "id": "77f8d6f2",
   "metadata": {},
   "outputs": [],
   "source": [
    "# Bad example with many violations to SRP\n",
    "\n",
    "class ConfirmationMailer:\n",
    "    \n",
    "    def __init__(self, templater, translator, mailer):\n",
    "        # Each of the components implements an specific interface\n",
    "        self.__templater = templater\n",
    "        self.__translator = translator\n",
    "        self.__mailer = mailer\n",
    "\n",
    "    def send_to(self, user: User) -> bool:\n",
    "        message = self._create_message_for(user)\n",
    "        self._send_message(message)\n",
    "\n",
    "\n",
    "    def _create_message_for(self, user: User):\n",
    "        subject = self.__translator.translate(\"Confirm your email\")\n",
    "        body = self.__templater.render(\"confirmation.html\", {\n",
    "            \"code\": str(random.randint(1000, 9999))\n",
    "        })\n",
    "        message = Message(subject, body)\n",
    "        message.to = user.email\n",
    "        return message\n",
    "\n",
    "    def _send_message(self, message: Message):\n",
    "        self.__mailer.send(message)\n",
    "    "
   ]
  },
  {
   "cell_type": "code",
   "execution_count": 3,
   "id": "20db80e9",
   "metadata": {},
   "outputs": [
    {
     "name": "stdout",
     "output_type": "stream",
     "text": [
      "To: aldo@me.com\n",
      "Subject: Confirm your email\n",
      "Body: 8106\n"
     ]
    }
   ],
   "source": [
    "# It actually works but with many caveats\n",
    "c = ConfirmationMailer(Templater(), Translator(), Mailer())\n",
    "c.send_to(User(\"aldo@me.com\"))"
   ]
  },
  {
   "cell_type": "markdown",
   "id": "d47fcd0c",
   "metadata": {},
   "source": [
    "The class above has actually more than just one responsability, we are delegating the task of creating an email and then send it to an user.\n",
    "\n",
    "That is enough reason to rewrite this class trying to minimize the number of resposabilities, this would at the same time reduce the need of modify the class in the future.\n",
    "\n",
    "We already know that ConfirmationMailer does too many things, refactoring this should be quite straightforward, since is a class Mailer, we'll delegate the task of sending emails to it, yet we are going to substract the responsability of create the message.\n",
    "\n",
    "Create a message is not as easy as instanciate a new Message object, it requires a few dependencies, therefore we might need a dedicated *Factory* class."
   ]
  },
  {
   "cell_type": "code",
   "execution_count": 4,
   "id": "424f1898",
   "metadata": {},
   "outputs": [],
   "source": [
    "class Factory:\n",
    "    pass\n",
    "\n",
    "\n",
    "class MailFactory(Factory):\n",
    "\n",
    "    def __init__(self, templater, translator):\n",
    "        self.__templater = templater\n",
    "        self.__translator = translator\n",
    "\n",
    "    def create_message_for(self, user):\n",
    "        subject = self.__translator.translate(\"Confirm your email\")\n",
    "        body = self.__templater.render(\"confirmation.html\", {\n",
    "            \"code\": str(random.randint(1000, 9999))\n",
    "        })\n",
    "        message = Message(subject, body)\n",
    "        message.to = user.email\n",
    "        return message\n",
    "\n",
    "\n",
    "class RefactoredConfirmationMailer:\n",
    "\n",
    "    def __init__(self, factory, mailer):\n",
    "        self.__factory = factory\n",
    "        self.__mailer = mailer\n",
    "        \n",
    "    def send_to(self, user):\n",
    "        message = self._create_message_for(user)\n",
    "        self._send_message(message)\n",
    "    \n",
    "    def _create_message_for(self, user):\n",
    "        return self.__factory.create_message_for(user)\n",
    "\n",
    "    def _send_message(self, message):\n",
    "        self.__mailer.send(message)\n"
   ]
  },
  {
   "cell_type": "markdown",
   "id": "a663f2ef",
   "metadata": {},
   "source": [
    "We already extracted the task of creating a new email, \n",
    "with two classes with one responsability each one the code will be\n",
    "easier to maintain, even if a differente factory is necessary\n",
    "refactoring our code to use a different model now allows us to\n",
    "inject any kind of Factory as long as they inherit from Factory base\n",
    "class, which is empty now, but not forever."
   ]
  },
  {
   "cell_type": "code",
   "execution_count": 5,
   "id": "3f6a1862",
   "metadata": {},
   "outputs": [
    {
     "name": "stdout",
     "output_type": "stream",
     "text": [
      "To: aldo@me.com\n",
      "Subject: Confirm your email\n",
      "Body: 9734\n"
     ]
    }
   ],
   "source": [
    "rc = RefactoredConfirmationMailer(MailFactory(Templater(), Translator()), Mailer())\n",
    "rc.send_to(User(\"aldo@me.com\"))"
   ]
  },
  {
   "cell_type": "markdown",
   "id": "5a1c373e",
   "metadata": {},
   "source": [
    "As a side effect of this refactoring, now both classes are easier to test, now we might test both responsabilities individually, the correctness of a recently created email and the ability to send it to an user mocking the whoe message-creation process the test can be focused only on actually sending the email"
   ]
  },
  {
   "cell_type": "markdown",
   "id": "14124f22",
   "metadata": {},
   "source": [
    "### Conclusion\n",
    "\n",
    "Any task represent a responsability inside a class, but responsabilities are also reasons to change the code, SRP is about minimizing the number of reasons for a class to be modified.\n",
    "\n",
    "This usually mean the extraction of at least one collaborating classes, each of this will need a smaller number of dependencies, making each class easier to instantiate, test and use."
   ]
  },
  {
   "cell_type": "markdown",
   "id": "3abbfd2b",
   "metadata": {},
   "source": [
    "## The Open/Closed principle\n",
    "\n",
    "The open/closed principle says that\n",
    "    _You should be able to extend a class's behaviour without modifying it_\n",
    "    \n",
    "A piece of code can be considered \"open for extension\" when its behaviour can be extended without actually modifying it, the fact that to actual modification is needed to change the behaviour of any unit of code makes it \"closed for modification\"."
   ]
  },
  {
   "cell_type": "code",
   "execution_count": 6,
   "id": "e4a4c425",
   "metadata": {},
   "outputs": [],
   "source": [
    "# Base mock code that we will be using on this section\n",
    "\n",
    "class JSONEncoder:\n",
    "    \n",
    "    def encode(self, data):\n",
    "        return data\n",
    "\n",
    "\n",
    "class XMLEncoder:\n",
    "    \n",
    "    def encode(self, data):\n",
    "        return data\n",
    "        "
   ]
  },
  {
   "cell_type": "markdown",
   "id": "62464d0f",
   "metadata": {},
   "source": [
    "Take a look to the class below, a encoder with a method to decide which type of the previously defined encoders use"
   ]
  },
  {
   "cell_type": "code",
   "execution_count": 7,
   "id": "06106a59",
   "metadata": {},
   "outputs": [],
   "source": [
    "class BadEncoder:\n",
    "    \n",
    "    def encode_to_format(data, format_):\n",
    "        if format_ == \"json\":\n",
    "            encoder = JSONEncoder()\n",
    "        elif format_ == \"xml\":\n",
    "            encoder = XMLEncoder()\n",
    "        else:\n",
    "            raise RuntimeError(f\"Invaluid encode format {format_}\")\n",
    "        \n",
    "        return encoder.encode(data)\n"
   ]
  },
  {
   "cell_type": "markdown",
   "id": "a505a203",
   "metadata": {},
   "source": [
    "Let's assume we want to encode data using yaml format, which is currently not supported by our class, the obvious solution would be to create a YAMLEncoder for this and add a condition inside the `encode_to_format` function."
   ]
  },
  {
   "cell_type": "code",
   "execution_count": 8,
   "id": "8b016b26",
   "metadata": {},
   "outputs": [],
   "source": [
    "class YAMLEncoder:\n",
    "    \n",
    "    def encode(self, data):\n",
    "        return data\n",
    "\n",
    "\n",
    "class BadEncoder:\n",
    "    \n",
    "    def encode_to_format(data, format_):\n",
    "        if format_ == \"json\":\n",
    "            encoder = JSONEncoder()\n",
    "        elif format_ == \"xml\":\n",
    "            encoder = XMLEncoder()\n",
    "        elif format_ == \"yaml\":\n",
    "            encoder == YAMLEncoder()\n",
    "        else:\n",
    "            raise RuntimeError(f\"Invaluid encode format {format_}\")\n",
    "        \n",
    "        data = self.prepare_data(data, format_)\n",
    "        return encoder.encode(data)"
   ]
  },
  {
   "cell_type": "markdown",
   "id": "5232d0ab",
   "metadata": {},
   "source": [
    "As you might have guessed, each time we need a new format for encoding we'll nedd to *modify* this conditional and create a new class, if tomorrow a new serializing method _puml_ is created, we will repeat the same process again and again. This is a clear violation to the open/closed principle, since we can not change the behaviour of the without modifiying the code\n",
    "\n",
    "_How to recognize a violation to O/C P?_\n",
    " - Code contains conditions to determine a strategy\n",
    " - Conditions using the same variables or constants are recurring inside the class or related classes\n",
    " - Class contains hard-coded references to other classes or class names\n",
    " - Class is creating objects directly\n",
    " - The class has private properties or methods to allow changing its behaviour by overriding state\n",
    " "
   ]
  },
  {
   "cell_type": "markdown",
   "id": "44f59235",
   "metadata": {},
   "source": [
    "To fix this bad design which requires us to constantly dive into `BadEncoder`class, we'll need to delegate the responsability of resolving which class to use to another dedicated class, remember the first part of this guide, the logic for find a right encoder is an actual reason to change.\n",
    "\n",
    "This new class might as well be an implementarion of the *Abstract Factory* design pattern, since Python does not need interfaces, we will be using a baseclass Encoder which will require an encode method, after all our Abstract Factory class does not care about what class is using, it is only interested on return an object that inherits from the base class."
   ]
  },
  {
   "cell_type": "code",
   "execution_count": 9,
   "id": "59ece5c9",
   "metadata": {},
   "outputs": [],
   "source": [
    "class Encoder:\n",
    "    \n",
    "    def encode(self, data):\n",
    "        pass\n",
    "    \n",
    "\n",
    "class JSONEncoder(Encoder):\n",
    "\n",
    "    def encode(self, data):\n",
    "        return data\n",
    "\n",
    "\n",
    "class XMLEncoder(Encoder):\n",
    "\n",
    "    def encode(self, data):\n",
    "        return data\n",
    "\n",
    "\n",
    "class YAMLEncoder(Encoder):\n",
    "    \n",
    "    def encode(self, data):\n",
    "        return data\n",
    "    \n",
    "\n",
    "# Let's define our factory...\n",
    "\n",
    "class EncoderFactory:\n",
    "    \n",
    "    # Returning type will be always an Encoder subclass\n",
    "    def create_for_format(self, format_) -> Encoder:\n",
    "        encoder = {\n",
    "            \"json\": JSONEncoder,\n",
    "            \"xml\": XMLEncoder,\n",
    "            \"yaml\": YAMLEncoder,\n",
    "        }.get(format_.lower())\n",
    "        \n",
    "        if encoder is None:\n",
    "            raise RuntimeError(f\"Invaluid encode format {format_}\")\n",
    "        return encoder()"
   ]
  },
  {
   "cell_type": "markdown",
   "id": "3f516148",
   "metadata": {},
   "source": [
    "Now we need to make sure that our main class does not create any other encoder, instead we delegated this task to`EncoderFactory` class, therefore if a new encoder is required, only the factory class will be modified."
   ]
  },
  {
   "cell_type": "code",
   "execution_count": 10,
   "id": "32e99d89",
   "metadata": {},
   "outputs": [],
   "source": [
    "class GoodEncoder:\n",
    "    \n",
    "    def __init__(self, factory):\n",
    "        self.__factory = factory\n",
    "\n",
    "    def encode_to_format(self, data, format_):\n",
    "        encoder = self.__factory.create_for_format(data)\n",
    "        encoder.encode(data)\n"
   ]
  },
  {
   "cell_type": "markdown",
   "id": "54d18b83",
   "metadata": {},
   "source": [
    "Now our class also conforms the SRP, using the encoder factory for fetching the right encoder for a given format, we ensure that we won't need to modify the class `GoodEncoder` anymore, we'll need to modify the factory instead.\n",
    "\n",
    "But, `EncoderFacotry` is still an ugly hard-coded list of supported formats and their encoders, this means that our factory is still closed against extension, it thereby violates the O/C P\n",
    "\n",
    "Another refactor is required, this time we'll use the *Dependency inversion* design pattern, defining a "
   ]
  }
 ],
 "metadata": {
  "kernelspec": {
   "display_name": "Python 3 (ipykernel)",
   "language": "python",
   "name": "python3"
  },
  "language_info": {
   "codemirror_mode": {
    "name": "ipython",
    "version": 3
   },
   "file_extension": ".py",
   "mimetype": "text/x-python",
   "name": "python",
   "nbconvert_exporter": "python",
   "pygments_lexer": "ipython3",
   "version": "3.10.4"
  }
 },
 "nbformat": 4,
 "nbformat_minor": 5
}
