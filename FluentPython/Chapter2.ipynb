{
 "cells": [
  {
   "cell_type": "markdown",
   "id": "eed9788b",
   "metadata": {},
   "source": [
    "# An array of Sequences"
   ]
  },
  {
   "cell_type": "markdown",
   "id": "437fb770",
   "metadata": {},
   "source": [
    "## Introduction\n",
    "\n",
    "Before working on Python, Guido was a contributor to the ABC language, so it is not a surprise that Python inherited from ABC the handling of seuqences, Strings, lists, byte sequences, arrays and many more.\n",
    "\n",
    "Understanding the variety of sequences available in Python saves us from reinventing the wheel, let's take a quick overview of the built-in sequences\n",
    "\n",
    " - Container sequences: Can hold items of different types, list, tuples, collections.deque\n",
    " - Flat sequences: Hold items of one simple type, str, bytes, array.array\n",
    " \n",
    "A container sequence holds references to the objects it contains, in the other hand, a flat sequence stores the value of its contents, therefore, flat sequences are more compact, but they are limited to holding primitive machine values like bytes, integers and floats.\n",
    "\n",
    "Every Python object in memory has a header with metadata, the simplest Python value float has a value fued and two metadata fields\n",
    " - ob_refcnt: the object's reference count\n",
    " - ob_type: a pointer to object's type\n",
    " - ob_fval: a C double holding the value\n",
    " \n",
    "\n",
    "Another way to group sequences on Python may be by mutable and inmutable even the evident difference, both of them are still subclasses of sequence."
   ]
  },
  {
   "cell_type": "code",
   "execution_count": 1,
   "id": "9cd03d23",
   "metadata": {},
   "outputs": [
    {
     "name": "stdout",
     "output_type": "stream",
     "text": [
      "True\n",
      "True\n"
     ]
    }
   ],
   "source": [
    "from collections import abc\n",
    "\n",
    "print(issubclass(tuple, abc.Sequence))\n",
    "print(issubclass(list, abc.Sequence))"
   ]
  },
  {
   "cell_type": "markdown",
   "id": "a3121f39",
   "metadata": {},
   "source": [
    "But list in particular is subclass of `MutableSequence` as well"
   ]
  },
  {
   "cell_type": "code",
   "execution_count": 2,
   "id": "0fc961a1",
   "metadata": {},
   "outputs": [
    {
     "name": "stdout",
     "output_type": "stream",
     "text": [
      "False\n",
      "True\n"
     ]
    }
   ],
   "source": [
    "print(issubclass(tuple, abc.MutableSequence))\n",
    "print(issubclass(list, abc.MutableSequence))"
   ]
  },
  {
   "cell_type": "markdown",
   "id": "3e09cd7c",
   "metadata": {},
   "source": [
    "This chapter assumes that we are pretty familiar with sequences, specially with lists in order of keep going and dive directly into List comprehensions and decorators.\n",
    "\n",
    "### List comprehensions\n",
    "\n",
    "A quick way to build a sequence is using a list comprehension, of course if the target is actually a list, else a generator may be a good idea as well, for brevity, Python developers often refers to list comprehensions as _listcomps_ and generator expresions as _genexps_ and we will stick to that too.\n",
    "\n",
    "#### List comprehension and readability\n",
    "\n",
    "The mail goal of a list comprehension is always to build a list, therefore you want to use it when a list needs to be created from another list, but not for actually iterating and presenting data\n",
    "\n",
    "The for-loop below is an use-case of a Python user who has to create a new list from a previous one"
   ]
  },
  {
   "cell_type": "code",
   "execution_count": 3,
   "id": "d5e7f68a",
   "metadata": {},
   "outputs": [
    {
     "name": "stdout",
     "output_type": "stream",
     "text": [
      "[252, 36, 37, 231]\n"
     ]
    }
   ],
   "source": [
    "# Create a list of unicode code points from a string\n",
    "\n",
    "symbols = \"ü$%ç\"\n",
    "codes = []\n",
    "\n",
    "for char in symbols:\n",
    "    codes.append(ord(char))\n",
    "\n",
    "print(codes)"
   ]
  },
  {
   "cell_type": "markdown",
   "id": "cc53071d",
   "metadata": {},
   "source": [
    "Even the example above works, it can be simplified to one line using a _listcomp_ making it easier to read."
   ]
  },
  {
   "cell_type": "code",
   "execution_count": 4,
   "id": "5c12f996",
   "metadata": {},
   "outputs": [
    {
     "name": "stdout",
     "output_type": "stream",
     "text": [
      "[252, 36, 37, 231]\n"
     ]
    }
   ],
   "source": [
    "codes = [ord(char) for char in \"ü$%ç\"]\n",
    "print(codes)"
   ]
  },
  {
   "cell_type": "markdown",
   "id": "d1b99470",
   "metadata": {},
   "source": [
    "Of course, the readability of a comprehension list depends on the developer too, they can create huge incomprehensible chunks of code, and remember, if you are not using the crated list for something, then you should not use this syntax, try to keep them short, if the target is to create a list but there is a lot of logic in it, is better to use a classic `for-loop` in order of being more explicit.\n",
    "\n",
    "**Remember:** all _listcomps_ have a local scope, that means you can not access any variable outside it, after the addition of walrus operator `:=` in Python 3.8 the variable name will store all the values and finally will take the value of the last iteration, it also applies for generators, set comprehensions or dict comprehensions."
   ]
  },
  {
   "cell_type": "code",
   "execution_count": 5,
   "id": "39733420",
   "metadata": {},
   "outputs": [
    {
     "name": "stdout",
     "output_type": "stream",
     "text": [
      "9\n"
     ]
    }
   ],
   "source": [
    "[x := int(i) for i in \"123456789\"]\n",
    "print(x)"
   ]
  },
  {
   "cell_type": "markdown",
   "id": "014f91f0",
   "metadata": {},
   "source": [
    "#### _Listcomps_ vs filter and map\n",
    "\n",
    "Peopele used to believe that the usage of `filter` or `map` is faster than use a _listcomp_ but this, in fact, is not true, the difference is ignorable, and they are still easier to read and write, since you don't have to deal with the understanding of `lambda`"
   ]
  },
  {
   "cell_type": "markdown",
   "id": "bc9480e3",
   "metadata": {},
   "source": [
    "_Listcomps_ can iterate over more than just one iterable, it will always depend on the requirements of your implementation and targeting readability."
   ]
  },
  {
   "cell_type": "code",
   "execution_count": 6,
   "id": "5011f643",
   "metadata": {},
   "outputs": [
    {
     "name": "stdout",
     "output_type": "stream",
     "text": [
      "black s\n",
      "black m\n",
      "black l\n",
      "white s\n",
      "white m\n",
      "white l\n"
     ]
    }
   ],
   "source": [
    "colors = [\"black\", \"white\"]\n",
    "sizes = [\"s\", \"m\", \"l\"]\n",
    "\n",
    "shirts = [(color, size) for color in colors for size in sizes]\n",
    "\n",
    "for shirt in shirts:\n",
    "    print(*shirt)"
   ]
  },
  {
   "cell_type": "markdown",
   "id": "ae1bec44",
   "metadata": {},
   "source": [
    "The above _listcomp_ is ordering our shirts by size since it is the \"highest order\" iterable on the list, if we need to actually ordering them by size we'll need to change the sequence of iterables"
   ]
  },
  {
   "cell_type": "code",
   "execution_count": 7,
   "id": "177cd80d",
   "metadata": {},
   "outputs": [
    {
     "name": "stdout",
     "output_type": "stream",
     "text": [
      "black s\n",
      "white s\n",
      "black m\n",
      "white m\n",
      "black l\n",
      "white l\n"
     ]
    }
   ],
   "source": [
    "shirts = [(color, size) for size in sizes for color in colors]\n",
    "\n",
    "for shirt in shirts:\n",
    "    print(*shirt)"
   ]
  },
  {
   "cell_type": "markdown",
   "id": "5205e9ce",
   "metadata": {},
   "source": [
    "### Generator expressions\n",
    "\n",
    "To initialize tuples, arrays and other sequences you may want to start with a _listcomp_ but a _genexp_ will save memory, since it does not store all the results of the iterable, yet it iterates, `yield` a value saving the iteration state and is able to run again for the next iteration.\n",
    "\n",
    "The advantage is, the syntax is the same as the _listcomps_ but using `()` rather than `[]`\n"
   ]
  },
  {
   "cell_type": "code",
   "execution_count": 8,
   "id": "53e27008",
   "metadata": {},
   "outputs": [
    {
     "name": "stdout",
     "output_type": "stream",
     "text": [
      "(252, 36, 37, 231)\n"
     ]
    }
   ],
   "source": [
    "codes = tuple(ord(char) for char in \"ü$%ç\")\n",
    "print(codes)"
   ]
  },
  {
   "cell_type": "markdown",
   "id": "12902fe7",
   "metadata": {},
   "source": [
    "Note that if a _genexp_ is the only argument in a function the parentheses are not necessary.\n",
    "\n",
    "Let's see how the previous example of shirts combinations will work with a _genexp_"
   ]
  },
  {
   "cell_type": "code",
   "execution_count": 9,
   "id": "07334b13",
   "metadata": {},
   "outputs": [
    {
     "name": "stdout",
     "output_type": "stream",
     "text": [
      "black s\n",
      "white s\n",
      "black m\n",
      "white m\n",
      "black l\n",
      "white l\n"
     ]
    }
   ],
   "source": [
    "for shirt in (f\"{color} {size}\" for size in sizes for color in colors):\n",
    "    print(shirt)"
   ]
  },
  {
   "cell_type": "markdown",
   "id": "5c323465",
   "metadata": {},
   "source": [
    "#### When to use each one?\n",
    "\n",
    "You may want to use a _listcomp_ if:\n",
    " - The values are finite and not too many\n",
    " - You will need to use the list after its creation\n",
    " - The transformation of the items is simple\n",
    " \n",
    "You may want to use a _genexp_ if:\n",
    " - Values are much or infinite\n",
    " - You don´t need to use the result after the iteration\n",
    " - The transformation of the items is simple"
   ]
  },
  {
   "cell_type": "markdown",
   "id": "433aa1db",
   "metadata": {},
   "source": [
    "### Tuples are not just inmutable lists\n",
    "\n",
    "Tuples is another primitive datatype used as an inmutable sequence, they can be used, yes as an inmutable list, and to represent nameless records, let's start with that\n",
    "\n",
    "#### Tuples as records\n",
    "\n",
    "Tuples hold items, each item in the tuple holds the data for one field, and the position gives its meaning.\n",
    "\n",
    "If you think a tuple as an inmutable list, the quantity or order or the items may not be relevant for you, depending the context, in the other hand, using them as records, the quantity must be fixed and the order is the context.\n",
    "\n",
    "See how in the following example, a record of coordinates depends on the order of each value, as well as the order of the unpacked values"
   ]
  },
  {
   "cell_type": "code",
   "execution_count": 10,
   "id": "9ae71d6b",
   "metadata": {},
   "outputs": [
    {
     "name": "stdout",
     "output_type": "stream",
     "text": [
      "USA 223311\n",
      "MX 223300\n"
     ]
    }
   ],
   "source": [
    "coordinates = (-39.62871, 92.33189)\n",
    "\n",
    "city, year, pop, chg, area = (\"Tokyo\", 2003, 32_450, 0.66, 8014)\n",
    "traveler_ids = [(\"USA\", \"223311\"), (\"MX\", \"223300\"),]\n",
    "\n",
    "for id_ in traveler_ids:\n",
    "    print(*id_)"
   ]
  },
  {
   "cell_type": "markdown",
   "id": "3fc2b4e5",
   "metadata": {},
   "source": [
    "#### Tuples as inmutable lists\n",
    "\n",
    "Using a tuple rather than a list will depend on the context, sometimes, the data within a list will remain the same through all the application, therefore, you might want use a tuple since it provides two main benefits:\n",
    " - Clarity: When you see a tuple on the code, you know its length will never change\n",
    " - Performance: A `tuple` uses less memory than a list of the same size, since it allows Python to do some optimizations"
   ]
  },
  {
   "cell_type": "markdown",
   "id": "34c04f35",
   "metadata": {},
   "source": [
    "#### \"Mutable\" tuples\n",
    "\n",
    "Take in count that, the inmutability of a `tuple`only applies to the references contained in it, references cannot be deleted or replaces, but they can point to a mutable object, which value could change, then the value of the `tuple` actually changes."
   ]
  },
  {
   "cell_type": "code",
   "execution_count": 11,
   "id": "cdc9e0ac",
   "metadata": {},
   "outputs": [
    {
     "data": {
      "text/plain": [
       "True"
      ]
     },
     "execution_count": 11,
     "metadata": {},
     "output_type": "execute_result"
    }
   ],
   "source": [
    "a = (9, \"tuple\", [5, 6])\n",
    "b = (9, \"tuple\", [5, 6])\n",
    "\n",
    "a == b"
   ]
  },
  {
   "cell_type": "markdown",
   "id": "0a4960a4",
   "metadata": {},
   "source": [
    "The snippet above, shows how two tuples, containing the same references will be equal"
   ]
  },
  {
   "cell_type": "code",
   "execution_count": 12,
   "id": "462c4f5d",
   "metadata": {},
   "outputs": [
    {
     "data": {
      "text/plain": [
       "False"
      ]
     },
     "execution_count": 12,
     "metadata": {},
     "output_type": "execute_result"
    }
   ],
   "source": [
    "b[-1].append(0)\n",
    "\n",
    "a == b"
   ]
  },
  {
   "cell_type": "markdown",
   "id": "435add35",
   "metadata": {},
   "source": [
    "Tuples with mutable objects can be a source of bugs, inmutability will be important in the following chapters, an object is `hashable` if it is inmutable, otherwise the hash will not be created and that value won't be candidate to be used as a `dict` key or be added to a `set` element.\n",
    "\n",
    "Let's create a function to determine if an object is hashable."
   ]
  },
  {
   "cell_type": "code",
   "execution_count": 13,
   "id": "d80e1779",
   "metadata": {},
   "outputs": [
    {
     "name": "stdout",
     "output_type": "stream",
     "text": [
      "inmutable_elements is hashable?  True\n",
      "elements is hashable?  False\n"
     ]
    }
   ],
   "source": [
    "def is_hashable(o):\n",
    "    try:\n",
    "        hash(o)\n",
    "    except TypeError:\n",
    "        return False\n",
    "    return True\n",
    "\n",
    "inmutable_elements = (1, \"strings are inmutable!\", (2, 3))\n",
    "elements = (1, \"strings are inmutable!\", [2, 3])\n",
    "\n",
    "print(\"inmutable_elements is hashable? \", is_hashable(inmutable_elements))\n",
    "print(\"elements is hashable? \", is_hashable(elements))"
   ]
  },
  {
   "cell_type": "markdown",
   "id": "de2d58a4",
   "metadata": {},
   "source": [
    "#### Unpacking\n",
    "\n",
    "Is a technique to avoid unnecessary use of indexes to extract elements from sequences. Also unpacking works with any iterable object as the data source (including iterators which don't support index notation `[]`)\n",
    "\n",
    "Most visible application form of unpacking is the parallel assignment; that is assign items from an iterable to a tuple of variables, as you can see in the example below"
   ]
  },
  {
   "cell_type": "code",
   "execution_count": 14,
   "id": "1aeafde8",
   "metadata": {},
   "outputs": [
    {
     "name": "stdout",
     "output_type": "stream",
     "text": [
      "lat=127.212\n",
      "lon=-102.12\n"
     ]
    }
   ],
   "source": [
    "coordinates = (127.212, -102.12)\n",
    "lat, lon = coordinates\n",
    "print(f\"{lat=}\")\n",
    "print(f\"{lon=}\")"
   ]
  },
  {
   "cell_type": "markdown",
   "id": "4240aef9",
   "metadata": {},
   "source": [
    "But that is not the only functionality of unpacking, it is useful for unpack a tuple as arguments for a function, for example, if we need to print each coordinate in the same row, your first reflect might be "
   ]
  },
  {
   "cell_type": "code",
   "execution_count": 15,
   "id": "aac64db6",
   "metadata": {},
   "outputs": [
    {
     "name": "stdout",
     "output_type": "stream",
     "text": [
      "127.212 -102.12\n"
     ]
    }
   ],
   "source": [
    "print(coordinates[0], coordinates[1])"
   ]
  },
  {
   "cell_type": "markdown",
   "id": "04ef8944",
   "metadata": {},
   "source": [
    "This works, of course, but Python has another trick to unpack all the values, this is handy when the tuple has many elements and retrieveng them by index is quite complicated, for this we'll use the `*` operator"
   ]
  },
  {
   "cell_type": "code",
   "execution_count": 16,
   "id": "b3570b29",
   "metadata": {},
   "outputs": [
    {
     "name": "stdout",
     "output_type": "stream",
     "text": [
      "127.212 -102.12\n"
     ]
    }
   ],
   "source": [
    "print(*coordinates)"
   ]
  },
  {
   "cell_type": "markdown",
   "id": "ac4f4b6a",
   "metadata": {},
   "source": [
    "It is also handy when you need to return many values from a function and store them in multiple variables at runtime"
   ]
  },
  {
   "cell_type": "code",
   "execution_count": 17,
   "id": "9c070cb0",
   "metadata": {},
   "outputs": [
    {
     "name": "stdout",
     "output_type": "stream",
     "text": [
      "2 4\n"
     ]
    }
   ],
   "source": [
    "quotient, remain = divmod(20, 8)\n",
    "\n",
    "print(quotient, remain)"
   ]
  },
  {
   "cell_type": "markdown",
   "id": "167e49e0",
   "metadata": {},
   "source": [
    "#### Using `*` in variadic functions\n",
    "\n",
    "Defining a function's parameters with `*args` will grab arbitrary excess arguments in a `tuple` called `args` available in your function's scope.\n",
    "\n",
    "In Python 3, this idea was extended to apply parallel assignment as well"
   ]
  },
  {
   "cell_type": "code",
   "execution_count": 18,
   "id": "ced9bb4a",
   "metadata": {},
   "outputs": [
    {
     "name": "stdout",
     "output_type": "stream",
     "text": [
      "1\n",
      "2\n",
      "[3, 4]\n"
     ]
    }
   ],
   "source": [
    "one, two, *rest = range(1, 5)\n",
    "\n",
    "print(one)\n",
    "print(two)\n",
    "print(rest)"
   ]
  },
  {
   "cell_type": "markdown",
   "id": "58cc984a",
   "metadata": {},
   "source": [
    "With this notation, you can use `*` operator in just one variable, but you can use it in any position."
   ]
  },
  {
   "cell_type": "code",
   "execution_count": 19,
   "id": "8f9fc3b3",
   "metadata": {},
   "outputs": [
    {
     "name": "stdout",
     "output_type": "stream",
     "text": [
      "1\n",
      "[2, 3, 4]\n",
      "5\n",
      "6\n"
     ]
    }
   ],
   "source": [
    "one, *middle, five, six = range(1, 7)\n",
    "\n",
    "print(one)\n",
    "print(middle)\n",
    "print(five)\n",
    "print(six)"
   ]
  },
  {
   "cell_type": "markdown",
   "id": "72e7043f",
   "metadata": {},
   "source": [
    "`*` operator is useful for create new `list`, `tuple` or `set`."
   ]
  },
  {
   "cell_type": "code",
   "execution_count": 20,
   "id": "69fe07fc",
   "metadata": {},
   "outputs": [
    {
     "data": {
      "text/plain": [
       "(0, 1, 2, 3, 4)"
      ]
     },
     "execution_count": 20,
     "metadata": {},
     "output_type": "execute_result"
    }
   ],
   "source": [
    "*range(4), 4"
   ]
  },
  {
   "cell_type": "code",
   "execution_count": 21,
   "id": "acda0d43",
   "metadata": {},
   "outputs": [
    {
     "data": {
      "text/plain": [
       "[1, 2, 3, 4, 5, 6, 7, 8, 9, 10]"
      ]
     },
     "execution_count": 21,
     "metadata": {},
     "output_type": "execute_result"
    }
   ],
   "source": [
    "[1, *range(2, 10), 10]"
   ]
  },
  {
   "cell_type": "code",
   "execution_count": 22,
   "id": "32df1137",
   "metadata": {},
   "outputs": [
    {
     "data": {
      "text/plain": [
       "{0, 1, 2, 3, 4, 5, 6, 7, 8, 9}"
      ]
     },
     "execution_count": 22,
     "metadata": {},
     "output_type": "execute_result"
    }
   ],
   "source": [
    "{1, *range(10)}"
   ]
  },
  {
   "cell_type": "markdown",
   "id": "e75a08c6",
   "metadata": {},
   "source": [
    "#### Nested unpacking\n",
    "\n",
    "Unpacking is smart enough to make us able to pick important data pieces from big and nested iterables. As long as the `tuple` sequence has the same structure."
   ]
  },
  {
   "cell_type": "code",
   "execution_count": 23,
   "id": "4fe76aa5",
   "metadata": {},
   "outputs": [
    {
     "name": "stdout",
     "output_type": "stream",
     "text": [
      "                |  latitude | longitude\n",
      "Mexico City     |   19.4300 |  -99.1300\n"
     ]
    }
   ],
   "source": [
    "metro_areas = [\n",
    "    (\"Tokyo\", \"JP\", 36.933, (35.68, 139.6916)),\n",
    "    (\"Delhi\", \"IN\", 21.935, (28.61, 77.20)),\n",
    "    (\"Mexico City\", \"MX\", 20.142, (19.43, -99.13)),\n",
    "]\n",
    "\n",
    "print(f'{\"\":15} | {\"latitude\":>9} | {\"longitude\":>9}')\n",
    "for name, _, _, (lat, lon) in metro_areas:\n",
    "    if lon <= 0:\n",
    "        print(f'{name:15} | {lat:9.4f} | {lon:9.4f}')"
   ]
  },
  {
   "cell_type": "markdown",
   "id": "955abe50",
   "metadata": {},
   "source": [
    "If the target of an unpacking contains only one result (e.g., the SQL code has a LIMIT 1 clause) you can use"
   ]
  },
  {
   "cell_type": "code",
   "execution_count": 24,
   "id": "b10cd0ac",
   "metadata": {},
   "outputs": [
    {
     "name": "stdout",
     "output_type": "stream",
     "text": [
      "3199\n"
     ]
    }
   ],
   "source": [
    "from random import randint\n",
    "\n",
    "def latest_user_id():\n",
    "    return (randint(999, 10000), )\n",
    "\n",
    "[last] = latest_user_id()\n",
    "print(last)"
   ]
  },
  {
   "cell_type": "markdown",
   "id": "470145ed",
   "metadata": {},
   "source": [
    "If the record has only one field, you can get it directly with"
   ]
  },
  {
   "cell_type": "code",
   "execution_count": 25,
   "id": "0b7c47b5",
   "metadata": {},
   "outputs": [
    {
     "name": "stdout",
     "output_type": "stream",
     "text": [
      "4267\n"
     ]
    }
   ],
   "source": [
    "from random import randint\n",
    "\n",
    "def latest_user_id():\n",
    "    return ((randint(999, 10000), ), )\n",
    "\n",
    "[[last]] = latest_user_id()\n",
    "print(last)"
   ]
  },
  {
   "cell_type": "markdown",
   "id": "4a3927e6",
   "metadata": {},
   "source": [
    "### Pattern matching with sequences\n",
    "\n",
    "The most visible new feature in Python 3.10 is pattern matching with `match/case` statement.\n",
    "\n",
    "Imagine you are receiving messages with the structure of a sequence of words describing the action that you need to perform, writing this code using a sequence of `if/elif/else` statements might be inconvinient, there is the first application of pattern matching."
   ]
  },
  {
   "cell_type": "code",
   "execution_count": 26,
   "id": "72866baf",
   "metadata": {},
   "outputs": [],
   "source": [
    "import time\n",
    "\n",
    "class Led:\n",
    "    def __init__(self):\n",
    "        self.brightness = 0\n",
    "        self.color = \"white\"\n",
    "\n",
    "    def set_brightness(self, val):\n",
    "        self.brightness = val\n",
    "\n",
    "    def set_color(self, r, g, b):\n",
    "        self.color = r, g, b\n",
    "\n",
    "\n",
    "class Robot:\n",
    "    \n",
    "    def __init__(self):\n",
    "        self.leds = {k: Led() for k in range(1, 6)}\n",
    "        self.neck_angle = 0\n",
    "        \n",
    "    def beep(self, times, freq):\n",
    "        for _ in range(times):\n",
    "            print(\"BEEP!\")\n",
    "            time.sleep(freq)\n",
    "\n",
    "    def rotate_neck(self, angle):\n",
    "        self.neck_angle += angle\n",
    "        print(f\"NECK ANGLE IS NOW: {self.neck_angle}\")\n",
    "\n",
    "    def adjust_bright_of_led(self, led, intensity):\n",
    "        self.leds[led].set_brightness(intensity)\n",
    "        print(f\"LED NUMBER {led} INTENSITY IS NOW {self.leds[led].brightness}\")\n",
    "        \n",
    "    def adjust_color_of_led(self, led, r, g, b):\n",
    "        self.leds[led].set_color(r, g, b)\n",
    "        print(f\"LED NUMBER {led} COLOR IS NOW RGB{self.leds[led].color}\")\n",
    "\n",
    "    def handle_command(self, command):\n",
    "        match message:\n",
    "            case [\"BEEP\", freq, times]:\n",
    "                self.beep(freq, times)\n",
    "            case [\"NECK\", angle]:\n",
    "                self.rotate_neck(angle)\n",
    "            case [\"LED\", ident, intensity]:\n",
    "                self.adjust_bright_of_led(ident, intensity)\n",
    "            case [\"LED\", ident, red, green, blue]:\n",
    "                self.adjust_color_of_led(ident, red, green, blue)\n",
    "            case _:\n",
    "                print(\"ERROR: Invalid command\")"
   ]
  },
  {
   "cell_type": "markdown",
   "id": "d8409522",
   "metadata": {},
   "source": [
    "The example above, shows a quick class of a simple robot with a few commands, it comes with a `handle_command()` method as well, which will receive the commands previously mentioned and execute them, please note how the pattern matching identifies any sequence and will `match` only if it has the structure defined in the `case` sentence.\n"
   ]
  },
  {
   "cell_type": "code",
   "execution_count": 27,
   "id": "b446174d",
   "metadata": {},
   "outputs": [
    {
     "name": "stdout",
     "output_type": "stream",
     "text": [
      "BEEP!\n",
      "BEEP!\n",
      "BEEP!\n"
     ]
    }
   ],
   "source": [
    "rob = Robot()\n",
    "\n",
    "message = [\"BEEP\", 3, 1]\n",
    "rob.handle_command(message)"
   ]
  },
  {
   "cell_type": "code",
   "execution_count": 28,
   "id": "5c1a7004",
   "metadata": {},
   "outputs": [
    {
     "name": "stdout",
     "output_type": "stream",
     "text": [
      "NECK ANGLE IS NOW: 180\n"
     ]
    }
   ],
   "source": [
    "message = [\"NECK\", 180]\n",
    "rob.handle_command(message)"
   ]
  },
  {
   "cell_type": "code",
   "execution_count": 29,
   "id": "f4f2c7a3",
   "metadata": {},
   "outputs": [
    {
     "name": "stdout",
     "output_type": "stream",
     "text": [
      "LED NUMBER 2 INTENSITY IS NOW 100\n"
     ]
    }
   ],
   "source": [
    "message = [\"LED\", 2, 100]\n",
    "rob.handle_command(message)"
   ]
  },
  {
   "cell_type": "code",
   "execution_count": 30,
   "id": "0890bb3d",
   "metadata": {},
   "outputs": [
    {
     "name": "stdout",
     "output_type": "stream",
     "text": [
      "LED NUMBER 4 COLOR IS NOW RGB(255, 255, 255)\n"
     ]
    }
   ],
   "source": [
    "message = [\"LED\", 4, 255, 255, 255]\n",
    "rob.handle_command(message)"
   ]
  },
  {
   "cell_type": "code",
   "execution_count": 31,
   "id": "92b3e948",
   "metadata": {},
   "outputs": [
    {
     "name": "stdout",
     "output_type": "stream",
     "text": [
      "ERROR: Invalid command\n"
     ]
    }
   ],
   "source": [
    "message = [\"LASER\", \"info\"]\n",
    "rob.handle_command(message)"
   ]
  },
  {
   "cell_type": "markdown",
   "id": "6d082438",
   "metadata": {},
   "source": [
    "This is only the surface of pattern matching true capacities, destructuring is a new concept in Python but commonly used in functional languages like Elixir or Scala.\n",
    "\n",
    "Let's rewrite our previous example but now using a bit more complex patern matching."
   ]
  },
  {
   "cell_type": "code",
   "execution_count": 32,
   "id": "2e23d8f9",
   "metadata": {},
   "outputs": [
    {
     "name": "stdout",
     "output_type": "stream",
     "text": [
      "                |  latitude | longitude\n",
      "Tokyo           |   35.6800 |  139.6916\n",
      "Delhi           |   28.6100 |   77.2000\n"
     ]
    }
   ],
   "source": [
    "metro_areas = [\n",
    "    (\"Tokyo\", \"JP\", 36.933, (35.68, 139.6916)),\n",
    "    (\"Delhi\", \"IN\", 21.935, (28.61, 77.20)),\n",
    "    (\"Mexico City\", \"MX\", 20.142, (19.43, -99.13)),\n",
    "]\n",
    "\n",
    "print(f'{\"\":15} | {\"latitude\":>9} | {\"longitude\":>9}')\n",
    "for record in metro_areas:\n",
    "    match record:\n",
    "        case [name, _, _, (lat, lon)] if lon >= 0:\n",
    "            print(f'{name:15} | {lat:9.4f} | {lon:9.4f}')"
   ]
  },
  {
   "cell_type": "markdown",
   "id": "da57c14a",
   "metadata": {},
   "source": [
    "This exampel has two parts, the `case` clause and an extra `if` condition, we can add more `case` and make them depend on the conditional."
   ]
  },
  {
   "cell_type": "code",
   "execution_count": 33,
   "id": "fa3e3534",
   "metadata": {},
   "outputs": [
    {
     "name": "stdout",
     "output_type": "stream",
     "text": [
      "Hemisphere   | City            |  latitude | longitude\n",
      "South        | Tokyo           |   35.6800 |  139.6916\n",
      "South        | Delhi           |   28.6100 |   77.2000\n",
      "North        | Mexico City     |   19.4300 |  -99.1300\n"
     ]
    }
   ],
   "source": [
    "print(f'{\"Hemisphere\":12} | {\"City\":15} | {\"latitude\":>9} | {\"longitude\":>9}')\n",
    "for record in metro_areas:\n",
    "    match record:\n",
    "        case [name, _, _, (lat, lon)] if lon <= 0:\n",
    "            print(f'{\"North\":12} | {name:15} | {lat:9.4f} | {lon:9.4f}')\n",
    "        case [name, _, _, (lat, lon)] if lon >= 0:\n",
    "            print(f'{\"South\":12} | {name:15} | {lat:9.4f} | {lon:9.4f}')"
   ]
  },
  {
   "cell_type": "markdown",
   "id": "572e684e",
   "metadata": {},
   "source": [
    "In general terms, a sequence pattern matches if\n",
    " - The subject is a sequence _and_;\n",
    " - The subject and the pattern have the same length _and_;\n",
    " - Each corresponding item matches, including nested items\n",
    " \n",
    "Sequence patterns may be written as tuples or lists, or any combination of nested tuples and lists, but it makes no difference which syntax you use.\n",
    "\n",
    "There are many more tricks, for exampel if you want a more general pattern, like, matching if the sequence starts with a string and ends with a nested sequence of two floats, we can write\n",
    "\n",
    "```py\n",
    "case [str(name), *_, (float(lat), float(lon))]\n",
    "```\n",
    "\n",
    "The `*_` matches any number of items, without binding them to a variable. Using `*extra` instead would bind the items to `extra` as a list with `0` or more items.\n",
    "\n",
    "The optional guard clause starting with `if` is evaluated only if the pattern matches, and can reference variables bound in the pattern."
   ]
  },
  {
   "cell_type": "markdown",
   "id": "4af823ef",
   "metadata": {},
   "source": [
    "### Quick recap of lists\n",
    "\n",
    "Lists are really useful for a bunch of tasks, therefore, I'll leave a quick recap of many things that you can perform using lists."
   ]
  },
  {
   "cell_type": "code",
   "execution_count": 34,
   "id": "597f4374",
   "metadata": {},
   "outputs": [
    {
     "name": "stdout",
     "output_type": "stream",
     "text": [
      "A) [3.142592, ['A list', 'inside a list!']]\n",
      "B) [['A list', 'inside a list!'], 3.142592, 'See you space cowboy']\n",
      "C) ['See you space cowboy']\n",
      "D) ['See you space cowboy', 3.142592, ['A list', 'inside a list!'], (3+1j), (20, 77)]\n",
      "E) [3.142592, ['A list', 'inside a list!'], 3.142592, ['A list', 'inside a list!']]\n",
      "F) [1, 2, 2, 3, 4, 5, 7, 8] <- New list\n",
      "F) [8, 2, 5, 1, 4, 7, 2, 3] <- Original list\n",
      "G) None <- Result of method\n",
      "G) [1, 2, 2, 3, 4, 5, 7, 8] <- Original list\n"
     ]
    }
   ],
   "source": [
    "# Lists can store any type of data\n",
    "my_list = [\"See you space cowboy\", 3.142592, [\"A list\", \"inside a list!\"]]\n",
    "\n",
    "# Slicing allows you to access to a slice of the list\n",
    "print(\"A)\", my_list[1:3]) # start:end:step, actually ther are optional\n",
    "\n",
    "# As you might now, negative indexes are real in Python, also in slices, helps to revert a list\n",
    "print(\"B)\", my_list[::-1])\n",
    "\n",
    "# Python has a built-in function named `slice()` to create verbose slices\n",
    "BEBOP_MESSAGE = slice(0, 1) # start,end,step\n",
    "print(\"C)\", my_list[BEBOP_MESSAGE])\n",
    "# REMEMBER! \"end\" is exclusive, otherwise it might raise IndexError exceptions\n",
    "\n",
    "# You can concat lists as well, this will return a new list instead of altere the original\n",
    "concat_list = my_list + [3+1j, (20, 77)]\n",
    "print(\"D)\", concat_list)\n",
    "\n",
    "# Multiply by a constant \"n\" will copy and concat the list n times\n",
    "times_list = my_list[1:3] * 2\n",
    "print(\"E)\", times_list)\n",
    "\n",
    "# Of course in-line assignment is available to using += and *= operators\n",
    "# Substracting and division are not allowed\n",
    "\n",
    "# To sort a list you can use built-in function `sorted()` or use `list.sort()`\n",
    "# The first one will create a new sorted list from the original\n",
    "# And the second one will return None and modify the origin list\n",
    "\n",
    "numbers = [8, 2, 5, 1, 4, 7, 2, 3]\n",
    "sorted_list = sorted(numbers)\n",
    "print(\"F)\", sorted_list, \"<- New list\")\n",
    "print(\"F)\", numbers, \"<- Original list\")\n",
    "\n",
    "result_of_list_dot_sort = numbers.sort()\n",
    "print(\"G)\", result_of_list_dot_sort, \"<- Result of method\")\n",
    "print(\"G)\", numbers, \"<- Original list\")\n",
    "\n",
    "# Both receive `key` keyword parameter which should be a callable to\n",
    "# specify sorting strategy, useful for more complex data structures"
   ]
  },
  {
   "cell_type": "markdown",
   "id": "4acb315a",
   "metadata": {},
   "source": [
    "### Arrays\n",
    "\n",
    "As we said in the Tuples section, Python objects does not actually store the value of the object, it stores a reference to the value instead, this might be counterproductive when it comes to save a big quantity of items, there is where the `arrays` are better, since they store the value and only the value they are lighter than lists and tuples, they won't accept different values since all of them must be of the same type.\n",
    "\n",
    "Python arrays are as lean as C arrays, the constructor of an array will take as first parameter a letter to indicate the undelying C type to be stored in our arrays."
   ]
  },
  {
   "cell_type": "code",
   "execution_count": 35,
   "id": "e052916a",
   "metadata": {},
   "outputs": [
    {
     "name": "stdout",
     "output_type": "stream",
     "text": [
      "0.911721898087911\n"
     ]
    }
   ],
   "source": [
    "from array import array\n",
    "from random import random\n",
    "\n",
    "# Note the genexp as second parameter, this mean you can use any sequence there\n",
    "arr = array(\"d\", (random() for _ in range(10**5)))\n",
    "print(arr[-1])"
   ]
  },
  {
   "cell_type": "markdown",
   "id": "1cc1f489",
   "metadata": {},
   "source": [
    "Arrays are a sequence too, that means they have many of the methods that a list contains and a few more, let's see how to convert an array to a bytearray using the built-in methods for it.\n",
    "\n",
    "Note the last element of the original array will be equal to the array loaded from a file in the cell below."
   ]
  },
  {
   "cell_type": "code",
   "execution_count": 36,
   "id": "465b7842",
   "metadata": {},
   "outputs": [
    {
     "name": "stdout",
     "output_type": "stream",
     "text": [
      "0.911721898087911\n"
     ]
    }
   ],
   "source": [
    "fp = open(\"numbers.bin\", \"wb\")\n",
    "arr.tofile(fp)\n",
    "fp.close()\n",
    "\n",
    "arr2 = array(\"d\") # Note the data type is the same\n",
    "fp = open(\"numbers.bin\", \"rb\")\n",
    "arr2.fromfile(fp, 10**5)\n",
    "fp.close()\n",
    "print(arr2[-1])"
   ]
  },
  {
   "cell_type": "markdown",
   "id": "7eb510e4",
   "metadata": {},
   "source": [
    "If you still have doubts, let's compare both arrays"
   ]
  },
  {
   "cell_type": "code",
   "execution_count": 37,
   "id": "5b7ea208",
   "metadata": {},
   "outputs": [
    {
     "data": {
      "text/plain": [
       "True"
      ]
     },
     "execution_count": 37,
     "metadata": {},
     "output_type": "execute_result"
    }
   ],
   "source": [
    "arr == arr2"
   ]
  },
  {
   "cell_type": "markdown",
   "id": "4cfa9201",
   "metadata": {},
   "source": [
    "### Dequeues\n",
    "\n",
    "As you might have guessed, lists offer a _FIFO_ behavior when you use `append()` or `pop()`, but inserting and deleting from the head of the list is performance-expensive since the whole list is shifted in memory.\n",
    "\n",
    "This is why Python has a class `collections.dequeue`, a thread-safe, double-ended queue designed for fast inserting and removing both ends, it is quite useful to store thingfs like a list of recently viewed items since ehtn the max capacity is reached, it will delete a head item to store a the new value."
   ]
  },
  {
   "cell_type": "code",
   "execution_count": 38,
   "id": "87edb01a",
   "metadata": {},
   "outputs": [],
   "source": [
    "from collections import deque\n",
    "\n",
    "q = deque(range(10), maxlen=10) # Note again, first parameter can be any sequence"
   ]
  },
  {
   "cell_type": "markdown",
   "id": "c811d56a",
   "metadata": {},
   "source": [
    "Rotating with `n > 0` takes n items from the right end and prepends them to the left; when `n < 0` n items are taken from left and appended to the right"
   ]
  },
  {
   "cell_type": "code",
   "execution_count": 39,
   "id": "afe0c311",
   "metadata": {},
   "outputs": [
    {
     "name": "stdout",
     "output_type": "stream",
     "text": [
      "deque([7, 8, 9, 0, 1, 2, 3, 4, 5, 6], maxlen=10)\n",
      "deque([0, 1, 2, 3, 4, 5, 6, 7, 8, 9], maxlen=10)\n"
     ]
    }
   ],
   "source": [
    "q.rotate(3)\n",
    "print(q)\n",
    "q.rotate(-3)\n",
    "print(q)"
   ]
  },
  {
   "cell_type": "markdown",
   "id": "008b9f6b",
   "metadata": {},
   "source": [
    "Note how, since we added the optional parameter `maxlen` if we try to extend n elements to our queue it will forget about the first n items and will append the n items  "
   ]
  },
  {
   "cell_type": "code",
   "execution_count": 40,
   "id": "038bb20e",
   "metadata": {},
   "outputs": [
    {
     "name": "stdout",
     "output_type": "stream",
     "text": [
      "deque([3, 4, 5, 6, 7, 8, 9, 10, 11, 12], maxlen=10)\n"
     ]
    }
   ],
   "source": [
    "q.extend([10, 11, 12])\n",
    "print(q)"
   ]
  },
  {
   "cell_type": "markdown",
   "id": "2dacf999",
   "metadata": {},
   "source": [
    "There is another method that does pretty much the same but at the \"beginning\" of the sequence, the method is `extendleft()`"
   ]
  },
  {
   "cell_type": "code",
   "execution_count": 41,
   "id": "67310265",
   "metadata": {},
   "outputs": [
    {
     "name": "stdout",
     "output_type": "stream",
     "text": [
      "deque([0, -1, -2, 3, 4, 5, 6, 7, 8, 9], maxlen=10)\n"
     ]
    }
   ],
   "source": [
    "q.extendleft([-2, -1, 0])\n",
    "print(q)"
   ]
  },
  {
   "cell_type": "markdown",
   "id": "076645f0",
   "metadata": {},
   "source": [
    "## Conclusion\n",
    "\n",
    "Mastering the built-in library sequence types is key for writing concise, effective and idiomatic Python code.\n",
    "\n",
    "Sequences are often categorized as mutable and inmutable, but it is also useful to consider them as flat and container sequences, first ones are faster, compact ans easier to use, but they are limited to store atomic data, in the other hand, container sequences are more flexible; remember, be careful storing mutable types inside inmutable containers.\n",
    "\n",
    "List comprehensions and generator expressions are powerful one-liners to build and initialize sequences.\n",
    "\n",
    "Tuples play two roles, as records and as inmutable lists, both of them have their uses and adventages, using them as records allows you to extract data unpacking them, beyond tuples `*` works with any sequence.\n",
    "\n",
    "Using one or other sequence will always depend on the requirements of your implementation, there is not sequence which is a silver bullet for any problem in Python."
   ]
  }
 ],
 "metadata": {
  "kernelspec": {
   "display_name": "Python 3 (ipykernel)",
   "language": "python",
   "name": "python3"
  },
  "language_info": {
   "codemirror_mode": {
    "name": "ipython",
    "version": 3
   },
   "file_extension": ".py",
   "mimetype": "text/x-python",
   "name": "python",
   "nbconvert_exporter": "python",
   "pygments_lexer": "ipython3",
   "version": "3.10.4"
  }
 },
 "nbformat": 4,
 "nbformat_minor": 5
}
